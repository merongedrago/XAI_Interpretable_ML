{
 "cells": [
  {
   "cell_type": "code",
   "execution_count": 40,
   "id": "c7004e9e",
   "metadata": {},
   "outputs": [],
   "source": [
    "# import necessary packages\n",
    "import pandas as pd\n",
    "import numpy as np\n",
    "from sklearn.model_selection import train_test_split\n",
    "from sklearn.preprocessing import StandardScaler\n",
    "from sklearn.linear_model import LinearRegression, Ridge, Lasso, LogisticRegression\n",
    "from sklearn.metrics import mean_squared_error, r2_score\n",
    "import matplotlib.pyplot as plt\n",
    "import seaborn as sns\n",
    "import warnings\n",
    "\n",
    "warnings.filterwarnings(\"ignore\")"
   ]
  },
  {
   "cell_type": "code",
   "execution_count": 21,
   "id": "abd99f38",
   "metadata": {},
   "outputs": [
    {
     "data": {
      "application/vnd.microsoft.datawrangler.viewer.v0+json": {
       "columns": [
        {
         "name": "index",
         "rawType": "int64",
         "type": "integer"
        },
        {
         "name": "customerID",
         "rawType": "object",
         "type": "string"
        },
        {
         "name": "gender",
         "rawType": "object",
         "type": "string"
        },
        {
         "name": "SeniorCitizen",
         "rawType": "int64",
         "type": "integer"
        },
        {
         "name": "Partner",
         "rawType": "object",
         "type": "string"
        },
        {
         "name": "Dependents",
         "rawType": "object",
         "type": "string"
        },
        {
         "name": "tenure",
         "rawType": "int64",
         "type": "integer"
        },
        {
         "name": "PhoneService",
         "rawType": "object",
         "type": "string"
        },
        {
         "name": "MultipleLines",
         "rawType": "object",
         "type": "string"
        },
        {
         "name": "InternetService",
         "rawType": "object",
         "type": "string"
        },
        {
         "name": "OnlineSecurity",
         "rawType": "object",
         "type": "string"
        },
        {
         "name": "OnlineBackup",
         "rawType": "object",
         "type": "string"
        },
        {
         "name": "DeviceProtection",
         "rawType": "object",
         "type": "string"
        },
        {
         "name": "TechSupport",
         "rawType": "object",
         "type": "string"
        },
        {
         "name": "StreamingTV",
         "rawType": "object",
         "type": "string"
        },
        {
         "name": "StreamingMovies",
         "rawType": "object",
         "type": "string"
        },
        {
         "name": "Contract",
         "rawType": "object",
         "type": "string"
        },
        {
         "name": "PaperlessBilling",
         "rawType": "object",
         "type": "string"
        },
        {
         "name": "PaymentMethod",
         "rawType": "object",
         "type": "string"
        },
        {
         "name": "MonthlyCharges",
         "rawType": "float64",
         "type": "float"
        },
        {
         "name": "TotalCharges",
         "rawType": "object",
         "type": "string"
        },
        {
         "name": "Churn",
         "rawType": "object",
         "type": "string"
        }
       ],
       "ref": "35467d6c-4b37-4809-9caf-890c8e6afc62",
       "rows": [
        [
         "0",
         "7590-VHVEG",
         "Female",
         "0",
         "Yes",
         "No",
         "1",
         "No",
         "No phone service",
         "DSL",
         "No",
         "Yes",
         "No",
         "No",
         "No",
         "No",
         "Month-to-month",
         "Yes",
         "Electronic check",
         "29.85",
         "29.85",
         "No"
        ],
        [
         "1",
         "5575-GNVDE",
         "Male",
         "0",
         "No",
         "No",
         "34",
         "Yes",
         "No",
         "DSL",
         "Yes",
         "No",
         "Yes",
         "No",
         "No",
         "No",
         "One year",
         "No",
         "Mailed check",
         "56.95",
         "1889.5",
         "No"
        ],
        [
         "2",
         "3668-QPYBK",
         "Male",
         "0",
         "No",
         "No",
         "2",
         "Yes",
         "No",
         "DSL",
         "Yes",
         "Yes",
         "No",
         "No",
         "No",
         "No",
         "Month-to-month",
         "Yes",
         "Mailed check",
         "53.85",
         "108.15",
         "Yes"
        ],
        [
         "3",
         "7795-CFOCW",
         "Male",
         "0",
         "No",
         "No",
         "45",
         "No",
         "No phone service",
         "DSL",
         "Yes",
         "No",
         "Yes",
         "Yes",
         "No",
         "No",
         "One year",
         "No",
         "Bank transfer (automatic)",
         "42.3",
         "1840.75",
         "No"
        ],
        [
         "4",
         "9237-HQITU",
         "Female",
         "0",
         "No",
         "No",
         "2",
         "Yes",
         "No",
         "Fiber optic",
         "No",
         "No",
         "No",
         "No",
         "No",
         "No",
         "Month-to-month",
         "Yes",
         "Electronic check",
         "70.7",
         "151.65",
         "Yes"
        ]
       ],
       "shape": {
        "columns": 21,
        "rows": 5
       }
      },
      "text/html": [
       "<div>\n",
       "<style scoped>\n",
       "    .dataframe tbody tr th:only-of-type {\n",
       "        vertical-align: middle;\n",
       "    }\n",
       "\n",
       "    .dataframe tbody tr th {\n",
       "        vertical-align: top;\n",
       "    }\n",
       "\n",
       "    .dataframe thead th {\n",
       "        text-align: right;\n",
       "    }\n",
       "</style>\n",
       "<table border=\"1\" class=\"dataframe\">\n",
       "  <thead>\n",
       "    <tr style=\"text-align: right;\">\n",
       "      <th></th>\n",
       "      <th>customerID</th>\n",
       "      <th>gender</th>\n",
       "      <th>SeniorCitizen</th>\n",
       "      <th>Partner</th>\n",
       "      <th>Dependents</th>\n",
       "      <th>tenure</th>\n",
       "      <th>PhoneService</th>\n",
       "      <th>MultipleLines</th>\n",
       "      <th>InternetService</th>\n",
       "      <th>OnlineSecurity</th>\n",
       "      <th>...</th>\n",
       "      <th>DeviceProtection</th>\n",
       "      <th>TechSupport</th>\n",
       "      <th>StreamingTV</th>\n",
       "      <th>StreamingMovies</th>\n",
       "      <th>Contract</th>\n",
       "      <th>PaperlessBilling</th>\n",
       "      <th>PaymentMethod</th>\n",
       "      <th>MonthlyCharges</th>\n",
       "      <th>TotalCharges</th>\n",
       "      <th>Churn</th>\n",
       "    </tr>\n",
       "  </thead>\n",
       "  <tbody>\n",
       "    <tr>\n",
       "      <th>0</th>\n",
       "      <td>7590-VHVEG</td>\n",
       "      <td>Female</td>\n",
       "      <td>0</td>\n",
       "      <td>Yes</td>\n",
       "      <td>No</td>\n",
       "      <td>1</td>\n",
       "      <td>No</td>\n",
       "      <td>No phone service</td>\n",
       "      <td>DSL</td>\n",
       "      <td>No</td>\n",
       "      <td>...</td>\n",
       "      <td>No</td>\n",
       "      <td>No</td>\n",
       "      <td>No</td>\n",
       "      <td>No</td>\n",
       "      <td>Month-to-month</td>\n",
       "      <td>Yes</td>\n",
       "      <td>Electronic check</td>\n",
       "      <td>29.85</td>\n",
       "      <td>29.85</td>\n",
       "      <td>No</td>\n",
       "    </tr>\n",
       "    <tr>\n",
       "      <th>1</th>\n",
       "      <td>5575-GNVDE</td>\n",
       "      <td>Male</td>\n",
       "      <td>0</td>\n",
       "      <td>No</td>\n",
       "      <td>No</td>\n",
       "      <td>34</td>\n",
       "      <td>Yes</td>\n",
       "      <td>No</td>\n",
       "      <td>DSL</td>\n",
       "      <td>Yes</td>\n",
       "      <td>...</td>\n",
       "      <td>Yes</td>\n",
       "      <td>No</td>\n",
       "      <td>No</td>\n",
       "      <td>No</td>\n",
       "      <td>One year</td>\n",
       "      <td>No</td>\n",
       "      <td>Mailed check</td>\n",
       "      <td>56.95</td>\n",
       "      <td>1889.5</td>\n",
       "      <td>No</td>\n",
       "    </tr>\n",
       "    <tr>\n",
       "      <th>2</th>\n",
       "      <td>3668-QPYBK</td>\n",
       "      <td>Male</td>\n",
       "      <td>0</td>\n",
       "      <td>No</td>\n",
       "      <td>No</td>\n",
       "      <td>2</td>\n",
       "      <td>Yes</td>\n",
       "      <td>No</td>\n",
       "      <td>DSL</td>\n",
       "      <td>Yes</td>\n",
       "      <td>...</td>\n",
       "      <td>No</td>\n",
       "      <td>No</td>\n",
       "      <td>No</td>\n",
       "      <td>No</td>\n",
       "      <td>Month-to-month</td>\n",
       "      <td>Yes</td>\n",
       "      <td>Mailed check</td>\n",
       "      <td>53.85</td>\n",
       "      <td>108.15</td>\n",
       "      <td>Yes</td>\n",
       "    </tr>\n",
       "    <tr>\n",
       "      <th>3</th>\n",
       "      <td>7795-CFOCW</td>\n",
       "      <td>Male</td>\n",
       "      <td>0</td>\n",
       "      <td>No</td>\n",
       "      <td>No</td>\n",
       "      <td>45</td>\n",
       "      <td>No</td>\n",
       "      <td>No phone service</td>\n",
       "      <td>DSL</td>\n",
       "      <td>Yes</td>\n",
       "      <td>...</td>\n",
       "      <td>Yes</td>\n",
       "      <td>Yes</td>\n",
       "      <td>No</td>\n",
       "      <td>No</td>\n",
       "      <td>One year</td>\n",
       "      <td>No</td>\n",
       "      <td>Bank transfer (automatic)</td>\n",
       "      <td>42.30</td>\n",
       "      <td>1840.75</td>\n",
       "      <td>No</td>\n",
       "    </tr>\n",
       "    <tr>\n",
       "      <th>4</th>\n",
       "      <td>9237-HQITU</td>\n",
       "      <td>Female</td>\n",
       "      <td>0</td>\n",
       "      <td>No</td>\n",
       "      <td>No</td>\n",
       "      <td>2</td>\n",
       "      <td>Yes</td>\n",
       "      <td>No</td>\n",
       "      <td>Fiber optic</td>\n",
       "      <td>No</td>\n",
       "      <td>...</td>\n",
       "      <td>No</td>\n",
       "      <td>No</td>\n",
       "      <td>No</td>\n",
       "      <td>No</td>\n",
       "      <td>Month-to-month</td>\n",
       "      <td>Yes</td>\n",
       "      <td>Electronic check</td>\n",
       "      <td>70.70</td>\n",
       "      <td>151.65</td>\n",
       "      <td>Yes</td>\n",
       "    </tr>\n",
       "  </tbody>\n",
       "</table>\n",
       "<p>5 rows × 21 columns</p>\n",
       "</div>"
      ],
      "text/plain": [
       "   customerID  gender  SeniorCitizen Partner Dependents  tenure PhoneService  \\\n",
       "0  7590-VHVEG  Female              0     Yes         No       1           No   \n",
       "1  5575-GNVDE    Male              0      No         No      34          Yes   \n",
       "2  3668-QPYBK    Male              0      No         No       2          Yes   \n",
       "3  7795-CFOCW    Male              0      No         No      45           No   \n",
       "4  9237-HQITU  Female              0      No         No       2          Yes   \n",
       "\n",
       "      MultipleLines InternetService OnlineSecurity  ... DeviceProtection  \\\n",
       "0  No phone service             DSL             No  ...               No   \n",
       "1                No             DSL            Yes  ...              Yes   \n",
       "2                No             DSL            Yes  ...               No   \n",
       "3  No phone service             DSL            Yes  ...              Yes   \n",
       "4                No     Fiber optic             No  ...               No   \n",
       "\n",
       "  TechSupport StreamingTV StreamingMovies        Contract PaperlessBilling  \\\n",
       "0          No          No              No  Month-to-month              Yes   \n",
       "1          No          No              No        One year               No   \n",
       "2          No          No              No  Month-to-month              Yes   \n",
       "3         Yes          No              No        One year               No   \n",
       "4          No          No              No  Month-to-month              Yes   \n",
       "\n",
       "               PaymentMethod MonthlyCharges  TotalCharges Churn  \n",
       "0           Electronic check          29.85         29.85    No  \n",
       "1               Mailed check          56.95        1889.5    No  \n",
       "2               Mailed check          53.85        108.15   Yes  \n",
       "3  Bank transfer (automatic)          42.30       1840.75    No  \n",
       "4           Electronic check          70.70        151.65   Yes  \n",
       "\n",
       "[5 rows x 21 columns]"
      ]
     },
     "execution_count": 21,
     "metadata": {},
     "output_type": "execute_result"
    }
   ],
   "source": [
    "# look at the data\n",
    "data = pd.read_csv(\"WA_Fn-UseC_-Telco-Customer-Churn.csv\")\n",
    "data.head()"
   ]
  },
  {
   "cell_type": "code",
   "execution_count": 26,
   "id": "96fc4a20",
   "metadata": {},
   "outputs": [
    {
     "name": "stdout",
     "output_type": "stream",
     "text": [
      "(7043, 31)\n"
     ]
    },
    {
     "data": {
      "application/vnd.microsoft.datawrangler.viewer.v0+json": {
       "columns": [
        {
         "name": "index",
         "rawType": "object",
         "type": "string"
        },
        {
         "name": "0",
         "rawType": "object",
         "type": "unknown"
        }
       ],
       "ref": "8705d8fd-533f-43a3-8280-ae61f8973ca0",
       "rows": [
        [
         "SeniorCitizen",
         "int64"
        ],
        [
         "Partner",
         "int64"
        ],
        [
         "Dependents",
         "int64"
        ],
        [
         "tenure",
         "int64"
        ],
        [
         "PhoneService",
         "int64"
        ],
        [
         "PaperlessBilling",
         "int64"
        ],
        [
         "MonthlyCharges",
         "float64"
        ],
        [
         "TotalCharges",
         "float64"
        ],
        [
         "Churn",
         "int64"
        ],
        [
         "gender_Male",
         "bool"
        ],
        [
         "MultipleLines_No phone service",
         "bool"
        ],
        [
         "MultipleLines_Yes",
         "bool"
        ],
        [
         "InternetService_Fiber optic",
         "bool"
        ],
        [
         "InternetService_No",
         "bool"
        ],
        [
         "OnlineSecurity_No internet service",
         "bool"
        ],
        [
         "OnlineSecurity_Yes",
         "bool"
        ],
        [
         "OnlineBackup_No internet service",
         "bool"
        ],
        [
         "OnlineBackup_Yes",
         "bool"
        ],
        [
         "DeviceProtection_No internet service",
         "bool"
        ],
        [
         "DeviceProtection_Yes",
         "bool"
        ],
        [
         "TechSupport_No internet service",
         "bool"
        ],
        [
         "TechSupport_Yes",
         "bool"
        ],
        [
         "StreamingTV_No internet service",
         "bool"
        ],
        [
         "StreamingTV_Yes",
         "bool"
        ],
        [
         "StreamingMovies_No internet service",
         "bool"
        ],
        [
         "StreamingMovies_Yes",
         "bool"
        ],
        [
         "Contract_One year",
         "bool"
        ],
        [
         "Contract_Two year",
         "bool"
        ],
        [
         "PaymentMethod_Credit card (automatic)",
         "bool"
        ],
        [
         "PaymentMethod_Electronic check",
         "bool"
        ],
        [
         "PaymentMethod_Mailed check",
         "bool"
        ]
       ],
       "shape": {
        "columns": 1,
        "rows": 31
       }
      },
      "text/plain": [
       "SeniorCitizen                              int64\n",
       "Partner                                    int64\n",
       "Dependents                                 int64\n",
       "tenure                                     int64\n",
       "PhoneService                               int64\n",
       "PaperlessBilling                           int64\n",
       "MonthlyCharges                           float64\n",
       "TotalCharges                             float64\n",
       "Churn                                      int64\n",
       "gender_Male                                 bool\n",
       "MultipleLines_No phone service              bool\n",
       "MultipleLines_Yes                           bool\n",
       "InternetService_Fiber optic                 bool\n",
       "InternetService_No                          bool\n",
       "OnlineSecurity_No internet service          bool\n",
       "OnlineSecurity_Yes                          bool\n",
       "OnlineBackup_No internet service            bool\n",
       "OnlineBackup_Yes                            bool\n",
       "DeviceProtection_No internet service        bool\n",
       "DeviceProtection_Yes                        bool\n",
       "TechSupport_No internet service             bool\n",
       "TechSupport_Yes                             bool\n",
       "StreamingTV_No internet service             bool\n",
       "StreamingTV_Yes                             bool\n",
       "StreamingMovies_No internet service         bool\n",
       "StreamingMovies_Yes                         bool\n",
       "Contract_One year                           bool\n",
       "Contract_Two year                           bool\n",
       "PaymentMethod_Credit card (automatic)       bool\n",
       "PaymentMethod_Electronic check              bool\n",
       "PaymentMethod_Mailed check                  bool\n",
       "dtype: object"
      ]
     },
     "execution_count": 26,
     "metadata": {},
     "output_type": "execute_result"
    }
   ],
   "source": [
    "# look at the data types\n",
    "print(data.shape)\n",
    "data.dtypes"
   ]
  },
  {
   "cell_type": "markdown",
   "id": "cfee7ef9",
   "metadata": {},
   "source": [
    "## 1. Exploratory Data Analysis to check Assumptions"
   ]
  },
  {
   "cell_type": "markdown",
   "id": "03df96f5",
   "metadata": {},
   "source": [
    "### a. Assumptions of Linear Regression and Diagnostic Checks\n",
    "\n",
    "1. Linearity: will be evaluated using a **residuals vs. fitted plot**. Since `churn` is binary, this assumption may be partially violated and results interpreted with caution.  \n",
    "\n",
    "2. Independence of observations will be tested with the **Durbin-Watson statistic**, where values close to 2 indicate no autocorrelation.  \n",
    "\n",
    "3. Homoscedasticity: Constant variance will be checked through a **residuals vs. fitted values plot** and confirmed with the **Breusch-Pagan test**.  \n",
    "\n",
    "4. Normality: Residual normality will be assessed visually using a **Q-Q plot** and statistically using the **Shapiro-Wilk test**.  \n",
    "\n",
    "5. Multicollinearity will be measured using the **Variance Inflation Factor (VIF)**. Values above 5 (or 10) will signal potential issues.  \n"
   ]
  },
  {
   "cell_type": "code",
   "execution_count": 22,
   "id": "aaacd482",
   "metadata": {},
   "outputs": [],
   "source": [
    "# Remove customerID\n",
    "data = data.drop(\"customerID\", axis=1)\n",
    "\n",
    "# Convert TotalCharges to numeric\n",
    "data[\"TotalCharges\"] = pd.to_numeric(data[\"TotalCharges\"], errors=\"coerce\")\n",
    "\n",
    "# Impute missing TotalCharges\n",
    "data[\"TotalCharges\"] = data[\"TotalCharges\"].fillna(data[\"TotalCharges\"].median())\n",
    "\n",
    "# Encode binary columns\n",
    "binary_cols = [\"Partner\", \"Dependents\", \"PhoneService\", \"PaperlessBilling\", \"Churn\"]\n",
    "for col in binary_cols:\n",
    "    data[col] = data[col].map({\"Yes\": 1, \"No\": 0})\n",
    "\n",
    "# One-hot encode categorical columns\n",
    "categorical_cols = data.select_dtypes(include=\"object\").columns\n",
    "data = pd.get_dummies(data, columns=categorical_cols, drop_first=True)"
   ]
  },
  {
   "cell_type": "code",
   "execution_count": 24,
   "id": "741de94e",
   "metadata": {},
   "outputs": [
    {
     "name": "stdout",
     "output_type": "stream",
     "text": [
      "                            OLS Regression Results                            \n",
      "==============================================================================\n",
      "Dep. Variable:                  Churn   R-squared:                       0.284\n",
      "Model:                            OLS   Adj. R-squared:                  0.282\n",
      "Method:                 Least Squares   F-statistic:                     121.2\n",
      "Date:                Mon, 15 Sep 2025   Prob (F-statistic):               0.00\n",
      "Time:                        02:52:14   Log-Likelihood:                -3057.9\n",
      "No. Observations:                7043   AIC:                             6164.\n",
      "Df Residuals:                    7019   BIC:                             6328.\n",
      "Df Model:                          23                                         \n",
      "Covariance Type:            nonrobust                                         \n",
      "=========================================================================================================\n",
      "                                            coef    std err          t      P>|t|      [0.025      0.975]\n",
      "---------------------------------------------------------------------------------------------------------\n",
      "const                                     0.2729      0.103      2.656      0.008       0.072       0.474\n",
      "SeniorCitizen                             0.0443      0.013      3.409      0.001       0.019       0.070\n",
      "Partner                                  -0.0011      0.011     -0.101      0.920      -0.022       0.020\n",
      "Dependents                               -0.0207      0.011     -1.808      0.071      -0.043       0.002\n",
      "tenure                                   -0.0019      0.000     -3.818      0.000      -0.003      -0.001\n",
      "PhoneService                              0.1341      0.095      1.411      0.158      -0.052       0.320\n",
      "PaperlessBilling                          0.0449      0.010      4.502      0.000       0.025       0.064\n",
      "MonthlyCharges                           -0.0013      0.004     -0.303      0.762      -0.010       0.007\n",
      "TotalCharges                          -4.486e-05   6.43e-06     -6.975      0.000   -5.75e-05   -3.23e-05\n",
      "gender_Male                              -0.0033      0.009     -0.365      0.715      -0.021       0.014\n",
      "MultipleLines_No phone service            0.1388      0.014      9.651      0.000       0.111       0.167\n",
      "MultipleLines_Yes                         0.0583      0.024      2.395      0.017       0.011       0.106\n",
      "InternetService_Fiber optic               0.2109      0.109      1.928      0.054      -0.004       0.425\n",
      "InternetService_No                       -0.0257      0.016     -1.626      0.104      -0.057       0.005\n",
      "OnlineSecurity_No internet service       -0.0257      0.016     -1.626      0.104      -0.057       0.005\n",
      "OnlineSecurity_Yes                       -0.0426      0.025     -1.715      0.086      -0.091       0.006\n",
      "OnlineBackup_No internet service         -0.0257      0.016     -1.626      0.104      -0.057       0.005\n",
      "OnlineBackup_Yes                         -0.0115      0.024     -0.472      0.637      -0.059       0.036\n",
      "DeviceProtection_No internet service     -0.0257      0.016     -1.626      0.104      -0.057       0.005\n",
      "DeviceProtection_Yes                      0.0044      0.025      0.180      0.857      -0.044       0.053\n",
      "TechSupport_No internet service          -0.0257      0.016     -1.626      0.104      -0.057       0.005\n",
      "TechSupport_Yes                          -0.0438      0.025     -1.753      0.080      -0.093       0.005\n",
      "StreamingTV_No internet service          -0.0257      0.016     -1.626      0.104      -0.057       0.005\n",
      "StreamingTV_Yes                           0.0636      0.045      1.414      0.157      -0.025       0.152\n",
      "StreamingMovies_No internet service      -0.0257      0.016     -1.626      0.104      -0.057       0.005\n",
      "StreamingMovies_Yes                       0.0663      0.045      1.476      0.140      -0.022       0.154\n",
      "Contract_One year                        -0.1065      0.014     -7.625      0.000      -0.134      -0.079\n",
      "Contract_Two year                        -0.0722      0.017     -4.268      0.000      -0.105      -0.039\n",
      "PaymentMethod_Credit card (automatic)    -0.0058      0.014     -0.431      0.666      -0.032       0.021\n",
      "PaymentMethod_Electronic check            0.0678      0.013      5.107      0.000       0.042       0.094\n",
      "PaymentMethod_Mailed check               -0.0066      0.014     -0.454      0.650      -0.035       0.022\n",
      "==============================================================================\n",
      "Omnibus:                      355.780   Durbin-Watson:                   2.005\n",
      "Prob(Omnibus):                  0.000   Jarque-Bera (JB):              386.444\n",
      "Skew:                           0.551   Prob(JB):                     1.22e-84\n",
      "Kurtosis:                       2.681   Cond. No.                     1.64e+18\n",
      "==============================================================================\n",
      "\n",
      "Notes:\n",
      "[1] Standard Errors assume that the covariance matrix of the errors is correctly specified.\n",
      "[2] The smallest eigenvalue is 2.72e-26. This might indicate that there are\n",
      "strong multicollinearity problems or that the design matrix is singular.\n"
     ]
    }
   ],
   "source": [
    "# Apply OLS regression model after feature engineering\n",
    "\n",
    "y = data[\"Churn\"].astype(float)  # Ensure float dtype\n",
    "\n",
    "import statsmodels.api as sm\n",
    "\n",
    "# Add constant for intercept and ensure all predictors are float\n",
    "X_sm = sm.add_constant(data.drop(\"Churn\", axis=1).astype(float))\n",
    "\n",
    "# Fit OLS regression\n",
    "model = sm.OLS(y, X_sm).fit()\n",
    "\n",
    "# Print full summary\n",
    "print(model.summary())"
   ]
  },
  {
   "cell_type": "code",
   "execution_count": 25,
   "id": "4131fa8c",
   "metadata": {},
   "outputs": [
    {
     "data": {
      "image/png": "[encoded data removed]",
      "text/plain": [
       "<Figure size 600x400 with 1 Axes>"
      ]
     },
     "metadata": {},
     "output_type": "display_data"
    },
    {
     "name": "stdout",
     "output_type": "stream",
     "text": [
      "Durbin-Watson statistic: 2.005225809093518\n",
      "Breusch-Pagan p-value: 1.0601451725013384e-270\n"
     ]
    },
    {
     "data": {
      "image/png": "[encoded data removed]",
      "text/plain": [
       "<Figure size 640x480 with 1 Axes>"
      ]
     },
     "metadata": {},
     "output_type": "display_data"
    },
    {
     "name": "stdout",
     "output_type": "stream",
     "text": [
      "Shapiro-Wilk p-value: 1.8620208637153028e-39\n"
     ]
    },
    {
     "name": "stderr",
     "output_type": "stream",
     "text": [
      "/opt/miniconda3/lib/python3.10/site-packages/scipy/stats/_axis_nan_policy.py:586: UserWarning: scipy.stats.shapiro: For N > 5000, computed p-value may not be accurate. Current N is 7043.\n",
      "  res = hypotest_fun_out(*samples, **kwds)\n",
      "/opt/miniconda3/lib/python3.10/site-packages/statsmodels/regression/linear_model.py:1782: RuntimeWarning: divide by zero encountered in scalar divide\n",
      "  return 1 - self.ssr/self.centered_tss\n",
      "/opt/miniconda3/lib/python3.10/site-packages/statsmodels/stats/outliers_influence.py:197: RuntimeWarning: divide by zero encountered in scalar divide\n",
      "  vif = 1. / (1. - r_squared_i)\n"
     ]
    },
    {
     "name": "stdout",
     "output_type": "stream",
     "text": [
      "Top 10 VIF values:\n",
      "            VIF                               feature\n",
      "24         inf   StreamingMovies_No internet service\n",
      "20         inf       TechSupport_No internet service\n",
      "16         inf      OnlineBackup_No internet service\n",
      "5          inf                          PhoneService\n",
      "18         inf  DeviceProtection_No internet service\n",
      "10         inf        MultipleLines_No phone service\n",
      "22         inf       StreamingTV_No internet service\n",
      "13         inf                    InternetService_No\n",
      "14         inf    OnlineSecurity_No internet service\n",
      "7   865.066041                        MonthlyCharges\n"
     ]
    }
   ],
   "source": [
    "# Linear Regression Assumptions Diagnostics (using statsmodels OLS results)\n",
    "\n",
    "# Residuals and fitted values\n",
    "residuals = model.resid\n",
    "y_pred = model.fittedvalues\n",
    "\n",
    "# 1. Linearity & Homoscedasticity: Residual plot\n",
    "plt.figure(figsize=(6, 4))\n",
    "plt.scatter(y_pred, residuals, alpha=0.5)\n",
    "plt.axhline(0, color=\"red\", linestyle=\"--\")\n",
    "plt.xlabel(\"Predicted Values\")\n",
    "plt.ylabel(\"Residuals\")\n",
    "plt.title(\"Residuals vs Predicted Values\")\n",
    "plt.show()\n",
    "\n",
    "# 2. Independence/Autocorrelation: Durbin-Watson test\n",
    "from statsmodels.stats.stattools import durbin_watson\n",
    "\n",
    "dw_stat = durbin_watson(residuals)\n",
    "print(\"Durbin-Watson statistic:\", dw_stat)\n",
    "\n",
    "# 3. Homoscedasticity: Breusch-Pagan test\n",
    "from statsmodels.stats.diagnostic import het_breuschpagan\n",
    "\n",
    "bp_test = het_breuschpagan(residuals, X_sm)\n",
    "print(\"Breusch-Pagan p-value:\", bp_test[1])\n",
    "\n",
    "# 4. Normality: Q-Q plot and Shapiro-Wilk test\n",
    "import scipy.stats as stats\n",
    "\n",
    "sm.qqplot(residuals, line=\"s\")\n",
    "plt.title(\"Q-Q Plot of Residuals\")\n",
    "plt.show()\n",
    "shapiro_p = stats.shapiro(residuals)[1]\n",
    "print(\"Shapiro-Wilk p-value:\", shapiro_p)\n",
    "\n",
    "# 5. Multicollinearity: VIF\n",
    "from statsmodels.stats.outliers_influence import variance_inflation_factor\n",
    "\n",
    "vif = pd.DataFrame()\n",
    "vif[\"VIF\"] = [variance_inflation_factor(X_sm.values, i) for i in range(X_sm.shape[1])]\n",
    "vif[\"feature\"] = X_sm.columns\n",
    "print(\"Top 10 VIF values:\\n\", vif.sort_values(\"VIF\", ascending=False).head(10))"
   ]
  },
  {
   "cell_type": "markdown",
   "id": "6772a30b",
   "metadata": {},
   "source": [
    "### Linear Regression Assumption Checks\n",
    "\n",
    "From the diagnostic tests, several assumptions of linear regression appear to be violated.  \n",
    "\n",
    "- Linearity and Homoscedasticity: The **residuals vs. fitted plot** shows two diagonal patterns where none should appear, suggesting a violation of linearity. Typically, violations of linearity or homoscedasticity are indicated by curved or funnel-shaped patterns.  \n",
    "\n",
    "- Independence and Autocorrelation: The **Durbin-Watson statistic** is very close to 2, indicating no autocorrelation and confirming that the observations are independent.  \n",
    "\n",
    "- Normality: The **Q-Q plot** shows deviations from the 45-degree reference line, both at the ends and in the middle, suggesting that residuals are not normally distributed.  \n",
    "\n",
    "- Multicollinearity: The **VIF results** include infinite or very high values, suggesting multicollinearity. Some predictors, such as `PhoneService`, showed high VIF scores and may need to be removed to improve the model.  \n"
   ]
  },
  {
   "cell_type": "markdown",
   "id": "deec2033",
   "metadata": {},
   "source": [
    "### b. Assumptions of Logistic Regression and Diagnostic Checks\n",
    "\n",
    "1. Linearity of the logit: Evaluated using the **Box-Tidwell test** for continuous predictors (e.g., tenure, TotalCharges). This checks whether the relationship between each continuous predictor and the log odds of the outcome is linear. Non-significant p-values indicate the assumption is met.\n",
    "\n",
    "2. Independence of observations: Tested with the **Durbin-Watson statistic** on deviance residuals. Values close to 2 suggest no autocorrelation and confirm independence.\n",
    "\n",
    "3. Multicollinearity: Measured using the **Variance Inflation Factor (VIF)**. Values above 5 (or 10) indicate problematic multicollinearity among predictors, which can destabilize coefficient estimates.\n",
    "\n",
    "4. Influential outliers: Assessed using **Cook's distance** and **studentized residuals**. High values may indicate observations that unduly influence the model fit or are strong outliers.\n",
    "\n",
    "*Note: Homoscedasticity and normality of residuals are not required assumptions for logistic regression.*"
   ]
  },
  {
   "cell_type": "code",
   "execution_count": 41,
   "id": "6abaa34e",
   "metadata": {},
   "outputs": [
    {
     "name": "stdout",
     "output_type": "stream",
     "text": [
      "Box-Tidwell p-value for tenure: 1.1276368859131376e-06\n",
      "Box-Tidwell p-value for TotalCharges: 7.5216212413952225e-16\n",
      "Durbin-Watson statistic (deviance residuals): 1.9962806793338084\n",
      "Top 10 VIF values (logit, raw):\n",
      "            VIF                         feature\n",
      "5          inf                    PhoneService\n",
      "10         inf  MultipleLines_No phone service\n",
      "7   865.066041                  MonthlyCharges\n",
      "12  148.263438     InternetService_Fiber optic\n",
      "13  104.219371              InternetService_No\n",
      "19   24.109793             StreamingMovies_Yes\n",
      "18   24.056872                 StreamingTV_Yes\n",
      "8    10.675411                    TotalCharges\n",
      "4     7.407607                          tenure\n",
      "11    7.274160               MultipleLines_Yes\n",
      "Max Cook's distance: 0.004440665432510858\n",
      "Max studentized residual: 18.770138491795006\n",
      "Top 10 VIF values (logit, raw):\n",
      "            VIF                         feature\n",
      "5          inf                    PhoneService\n",
      "10         inf  MultipleLines_No phone service\n",
      "7   865.066041                  MonthlyCharges\n",
      "12  148.263438     InternetService_Fiber optic\n",
      "13  104.219371              InternetService_No\n",
      "19   24.109793             StreamingMovies_Yes\n",
      "18   24.056872                 StreamingTV_Yes\n",
      "8    10.675411                    TotalCharges\n",
      "4     7.407607                          tenure\n",
      "11    7.274160               MultipleLines_Yes\n",
      "Max Cook's distance: 0.004440665432510858\n",
      "Max studentized residual: 18.770138491795006\n"
     ]
    },
    {
     "data": {
      "image/png": "[encoded data removed]",
      "text/plain": [
       "<Figure size 600x400 with 1 Axes>"
      ]
     },
     "metadata": {},
     "output_type": "display_data"
    }
   ],
   "source": [
    "# Logistic Regression Assumptions Diagnostics (raw data, drop constant and duplicate columns)\n",
    "from statsmodels.discrete.discrete_model import Logit\n",
    "from statsmodels.tools import add_constant\n",
    "\n",
    "# Prepare features and target from raw data\n",
    "X_logit_raw = data.drop(\"Churn\", axis=1)\n",
    "y_logit_raw = (\n",
    "    data[\"Churn\"].map({\"Yes\": 1, \"No\": 0})\n",
    "    if data[\"Churn\"].dtype == object\n",
    "    else data[\"Churn\"]\n",
    ")\n",
    "X_logit_raw = pd.get_dummies(X_logit_raw, drop_first=True)\n",
    "X_logit_raw = X_logit_raw.apply(pd.to_numeric, errors=\"coerce\")\n",
    "y_logit_raw = pd.to_numeric(y_logit_raw, errors=\"coerce\")\n",
    "\n",
    "# Drop constant columns (zero variance)\n",
    "X_logit_raw = X_logit_raw.loc[:, X_logit_raw.nunique() > 1]\n",
    "\n",
    "# Drop duplicate columns\n",
    "X_logit_raw = X_logit_raw.T.drop_duplicates().T\n",
    "\n",
    "X_logit_const_raw = add_constant(X_logit_raw)\n",
    "\n",
    "# Drop any rows with missing values to avoid dtype issues\n",
    "X_logit_const_raw = X_logit_const_raw.dropna()\n",
    "y_logit_raw = y_logit_raw.loc[X_logit_const_raw.index]\n",
    "\n",
    "# Ensure all columns are float\n",
    "X_logit_const_raw = X_logit_const_raw.astype(float)\n",
    "y_logit_raw = y_logit_raw.astype(float)\n",
    "\n",
    "# Fit logistic regression\n",
    "logit_model_raw = Logit(y_logit_raw, X_logit_const_raw).fit(disp=0)\n",
    "\n",
    "# 1. Linearity of predictors with logit (Box-Tidwell test for continuous variables)\n",
    "from scipy.stats import norm\n",
    "\n",
    "continuous_vars = [\n",
    "    var for var in [\"tenure\", \"TotalCharges\"] if var in X_logit_const_raw.columns\n",
    "]\n",
    "for var in continuous_vars:\n",
    "    X_logit_const_raw[var + \"_log\"] = X_logit_const_raw[var] * np.log(\n",
    "        X_logit_const_raw[var] + 1\n",
    "    )\n",
    "    box_tidwell_model = Logit(\n",
    "        y_logit_raw, X_logit_const_raw[[\"const\", var, var + \"_log\"]]\n",
    "    ).fit(disp=0)\n",
    "    print(f\"Box-Tidwell p-value for {var}:\", box_tidwell_model.pvalues[var + \"_log\"])\n",
    "    X_logit_const_raw = X_logit_const_raw.drop(columns=[var + \"_log\"])\n",
    "\n",
    "# 2. Independence of observations (Durbin-Watson test on deviance residuals)\n",
    "from statsmodels.stats.stattools import durbin_watson\n",
    "\n",
    "deviance_resid = logit_model_raw.resid_dev\n",
    "print(\"Durbin-Watson statistic (deviance residuals):\", durbin_watson(deviance_resid))\n",
    "\n",
    "# 3. Multicollinearity (VIF)\n",
    "from statsmodels.stats.outliers_influence import variance_inflation_factor\n",
    "\n",
    "vif_logit_raw = pd.DataFrame()\n",
    "vif_logit_raw[\"VIF\"] = [\n",
    "    variance_inflation_factor(X_logit_const_raw.values, i)\n",
    "    for i in range(X_logit_const_raw.shape[1])\n",
    "]\n",
    "vif_logit_raw[\"feature\"] = X_logit_const_raw.columns\n",
    "print(\n",
    "    \"Top 10 VIF values (logit, raw):\\n\",\n",
    "    vif_logit_raw.sort_values(\"VIF\", ascending=False).head(10),\n",
    ")\n",
    "\n",
    "# 4. Influential outliers (Cook's distance, studentized residuals)\n",
    "influence = logit_model_raw.get_influence()\n",
    "cooks_d = influence.cooks_distance[0]\n",
    "studentized_resid = influence.resid_studentized\n",
    "print(\"Max Cook's distance:\", np.max(cooks_d))\n",
    "print(\"Max studentized residual:\", np.max(studentized_resid))\n",
    "plt.figure(figsize=(6, 4))\n",
    "plt.stem(np.arange(len(cooks_d)), cooks_d, markerfmt=\",\")\n",
    "plt.title(\"Cook's Distance (Logistic Regression, Raw Data)\")\n",
    "plt.xlabel(\"Observation Index\")\n",
    "plt.ylabel(\"Cook's Distance\")\n",
    "plt.show()"
   ]
  },
  {
   "cell_type": "markdown",
   "id": "ee23513f",
   "metadata": {},
   "source": [
    "### Logistic Regression Assumption Checks\n",
    "\n",
    "From the diagnostic tests, several assumptions of logistic regression appear to be violated or require attention.\n",
    "\n",
    "- **Linearity of the logit:** The Box-Tidwell p-values for both `tenure` (1.13e-06) and `TotalCharges` (7.52e-16) are highly significant, indicating a violation of the linearity assumption for these continuous predictors. This suggests that the relationship between these variables and the log odds of churn is not strictly linear, and model results should be interpreted with caution or consider transformation of these predictors.\n",
    "\n",
    "- **Independence of observations:** The Durbin-Watson statistic for deviance residuals is 1.996, which is very close to 2. This indicates no autocorrelation and confirms that the observations are independent.\n",
    "\n",
    "- **Multicollinearity:** The VIF results show extremely high values, including infinite VIFs for `PhoneService` and `MultipleLines_No phone service`, and very high VIFs for other predictors such as `MonthlyCharges`, `InternetService_Fiber optic`, and `InternetService_No`. This indicates severe multicollinearity, which can destabilize coefficient estimates and make interpretation unreliable. Highly collinear variables should be removed or combined to improve model validity.\n",
    "\n",
    "- **Influential outliers:** The maximum Cook's distance is very low (0.0044), suggesting no single observation is unduly influencing the model. However, the maximum studentized residual is very high (18.77), indicating the presence of strong outliers. These cases should be investigated for data entry errors or special circumstances.\n"
   ]
  },
  {
   "cell_type": "markdown",
   "id": "caae8703",
   "metadata": {},
   "source": [
    "### c. GAM Assumptions and Diagnostic Checks\n",
    "\n",
    "1. **Additivity of predictors**: Check estimated smooth functions to ensure each predictor contributes additively. Add interaction terms explicitly if non-additive effects are suspected.\n",
    "\n",
    "2. **Correct link function and response distribution**: Ensure the link function (e.g., logit for binary, log for counts) matches the response. Compare model fit with alternatives if necessary.\n",
    "\n",
    "3. **Independence of observations**: Plot residuals against observation order or use the Durbin-Watson statistic for time-ordered data. Values near 2 indicate no autocorrelation.\n",
    "\n",
    "4. **Smoothness / function form**: Inspect smooth functions visually. Overly wiggly curves may indicate overfitting; under-smoothed curves may miss patterns. Use GCV or REML to select smoothness.\n",
    "\n",
    "5. **No perfect multicollinearity**: Use correlation matrices or VIF to check predictors and smooth terms. High correlation can destabilize estimation.\n",
    "\n",
    "6. **No overly influential outliers**: Examine deviance residuals, Cook's distance, or leverage plots to identify observations that strongly influence smooth estimates.\n",
    "\n",
    "*Note: Linearity, homoscedasticity, and normality of residuals are not required for GAMs with non-Gaussian responses.*\n"
   ]
  },
  {
   "cell_type": "markdown",
   "id": "62fd3dad",
   "metadata": {},
   "source": [
    "## 2. Linear Regression"
   ]
  },
  {
   "cell_type": "code",
   "execution_count": 32,
   "id": "2b1f71d3",
   "metadata": {},
   "outputs": [
    {
     "name": "stdout",
     "output_type": "stream",
     "text": [
      "                            OLS Regression Results                            \n",
      "==============================================================================\n",
      "Dep. Variable:                  Churn   R-squared:                       0.275\n",
      "Model:                            OLS   Adj. R-squared:                  0.273\n",
      "Method:                 Least Squares   F-statistic:                     133.5\n",
      "Date:                Mon, 15 Sep 2025   Prob (F-statistic):               0.00\n",
      "Time:                        03:42:16   Log-Likelihood:                -3101.1\n",
      "No. Observations:                7043   AIC:                             6244.\n",
      "Df Residuals:                    7022   BIC:                             6388.\n",
      "Df Model:                          20                                         \n",
      "Covariance Type:            nonrobust                                         \n",
      "=========================================================================================================\n",
      "                                            coef    std err          t      P>|t|      [0.025      0.975]\n",
      "---------------------------------------------------------------------------------------------------------\n",
      "const                                     0.2888      0.017     16.822      0.000       0.255       0.322\n",
      "SeniorCitizen                             0.0506      0.013      3.881      0.000       0.025       0.076\n",
      "Partner                                  -0.0015      0.011     -0.140      0.889      -0.023       0.020\n",
      "Dependents                               -0.0242      0.012     -2.101      0.036      -0.047      -0.002\n",
      "tenure                                   -0.0022      0.000     -4.634      0.000      -0.003      -0.001\n",
      "PaperlessBilling                          0.0555      0.010      5.568      0.000       0.036       0.075\n",
      "TotalCharges                          -4.265e-05   6.28e-06     -6.787      0.000    -5.5e-05   -3.03e-05\n",
      "gender_Male                              -0.0020      0.009     -0.226      0.821      -0.020       0.016\n",
      "MultipleLines_Yes                         0.0453      0.011      4.229      0.000       0.024       0.066\n",
      "InternetService_Fiber optic               0.1938      0.013     14.490      0.000       0.168       0.220\n",
      "OnlineSecurity_Yes                       -0.0165      0.012     -1.431      0.152      -0.039       0.006\n",
      "OnlineBackup_Yes                          0.0035      0.011      0.313      0.755      -0.018       0.026\n",
      "DeviceProtection_Yes                      0.0177      0.012      1.536      0.125      -0.005       0.040\n",
      "TechSupport_Yes                          -0.0218      0.012     -1.838      0.066      -0.045       0.001\n",
      "StreamingTV_Yes                           0.0619      0.012      5.148      0.000       0.038       0.085\n",
      "StreamingMovies_Yes                       0.0656      0.012      5.457      0.000       0.042       0.089\n",
      "Contract_One year                        -0.1320      0.014     -9.585      0.000      -0.159      -0.105\n",
      "Contract_Two year                        -0.1145      0.016     -6.995      0.000      -0.147      -0.082\n",
      "PaymentMethod_Credit card (automatic)    -0.0064      0.014     -0.470      0.639      -0.033       0.020\n",
      "PaymentMethod_Electronic check            0.0769      0.013      5.776      0.000       0.051       0.103\n",
      "PaymentMethod_Mailed check               -0.0218      0.014     -1.506      0.132      -0.050       0.007\n",
      "==============================================================================\n",
      "Omnibus:                      392.926   Durbin-Watson:                   2.009\n",
      "Prob(Omnibus):                  0.000   Jarque-Bera (JB):              422.611\n",
      "Skew:                           0.572   Prob(JB):                     1.70e-92\n",
      "Kurtosis:                       2.636   Cond. No.                     1.71e+04\n",
      "==============================================================================\n",
      "\n",
      "Notes:\n",
      "[1] Standard Errors assume that the covariance matrix of the errors is correctly specified.\n",
      "[2] The condition number is large, 1.71e+04. This might indicate that there are\n",
      "strong multicollinearity or other numerical problems.\n"
     ]
    }
   ],
   "source": [
    "# List of high VIF variables to remove\n",
    "high_vif_vars = [\n",
    "    \"PhoneService\",\n",
    "    \"MonthlyCharges\",\n",
    "    \"MultipleLines_No phone service\",\n",
    "    \"InternetService_No\",\n",
    "    \"OnlineSecurity_No internet service\",\n",
    "    \"OnlineBackup_No internet service\",\n",
    "    \"DeviceProtection_No internet service\",\n",
    "    \"TechSupport_No internet service\",\n",
    "    \"StreamingTV_No internet service\",\n",
    "    \"StreamingMovies_No internet service\",\n",
    "]\n",
    "\n",
    "# Remove these columns from your DataFrame\n",
    "X_reduced = data.drop(high_vif_vars + [\"Churn\"], axis=1)\n",
    "y = data[\"Churn\"].astype(float)\n",
    "\n",
    "import statsmodels.api as sm\n",
    "\n",
    "X_sm_reduced = sm.add_constant(X_reduced.astype(float))\n",
    "model_reduced = sm.OLS(y, X_sm_reduced).fit()\n",
    "print(model_reduced.summary())"
   ]
  },
  {
   "cell_type": "code",
   "execution_count": 33,
   "id": "f908cc39",
   "metadata": {},
   "outputs": [
    {
     "name": "stdout",
     "output_type": "stream",
     "text": [
      "R-squared: 0.2754800644678984\n",
      "Adjusted R-squared: 0.27341649301950166\n",
      "MSE: 0.14124422134464082\n",
      "RMSE: 0.3758247215719594\n"
     ]
    }
   ],
   "source": [
    "# R-squared and Adjusted R-squared\n",
    "print(\"R-squared:\", model_reduced.rsquared)\n",
    "print(\"Adjusted R-squared:\", model_reduced.rsquared_adj)\n",
    "\n",
    "# Mean Squared Error and RMSE\n",
    "from sklearn.metrics import mean_squared_error\n",
    "\n",
    "y_pred = model_reduced.fittedvalues\n",
    "mse = mean_squared_error(y, y_pred)\n",
    "rmse = mse**0.5\n",
    "print(\"MSE:\", mse)\n",
    "print(\"RMSE:\", rmse)"
   ]
  },
  {
   "cell_type": "markdown",
   "id": "cb165eb0",
   "metadata": {},
   "source": [
    "## Interpretation of Regression Coefficients\n",
    "\n",
    "### Significant Predictors\n",
    "\n",
    "- SeniorCitizen (0.051, p < 0.001): Being a senior citizen increases churn probability by about 5 percentage points, and this effect is statistically significant.  \n",
    "- Dependents (-0.024, p = 0.036): Having dependents lowers churn probability by about 2.4 percentage points.  \n",
    "- Tenure (-0.002, p < 0.001): Each additional month with the company slightly reduces churn (about 0.2 percentage points per month).  \n",
    "- PaperlessBilling (0.056, p < 0.001): Customers using paperless billing are about 5.6 percentage points more likely to churn.  \n",
    "- TotalCharges (-0.000043, p < 0.001): Higher total charges are associated with slightly lower churn, consistent with longer customer relationships.  \n",
    "- MultipleLines_Yes (0.045, p < 0.001): Having multiple phone lines increases churn by 4.5 percentage points.  \n",
    "- InternetService_Fiber optic (0.194, p < 0.001): Fiber optic customers are much more likely to churn, with churn probability increasing by nearly 19 percentage points compared to DSL/no internet.  \n",
    "- StreamingTV_Yes (0.062, p < 0.001): Streaming TV increases churn by 6.2 percentage points.  \n",
    "- StreamingMovies_Yes (0.066, p < 0.001): Streaming movies increases churn by 6.6 percentage points.  \n",
    "- Contract_One year (-0.132, p < 0.001): One-year contracts reduce churn by 13 percentage points compared to month-to-month.  \n",
    "- Contract_Two year (-0.115, p < 0.001): Two-year contracts reduce churn by 11.5 percentage points.  \n",
    "- PaymentMethod_Electronic check (0.077, p < 0.001): Customers paying by electronic check are about 7.7 percentage points more likely to churn.  \n",
    "\n",
    "### Not Significant Predictors\n",
    "\n",
    "- Partner (-0.002, p = 0.889): No significant relationship between having a partner and churn.  \n",
    "- Gender_Male (-0.002, p = 0.821): Gender does not significantly affect churn.  \n",
    "- OnlineSecurity_Yes (-0.017, p = 0.152): Not significant, though direction suggests reduced churn.  \n",
    "- OnlineBackup_Yes (0.004, p = 0.755): No significant effect.  \n",
    "- DeviceProtection_Yes (0.018, p = 0.125): No significant effect.  \n",
    "- TechSupport_Yes (-0.022, p = 0.066): Slightly below significance threshold; may reduce churn but evidence is weak.  \n",
    "- PaymentMethod_Credit card (automatic) (-0.006, p = 0.639): No significant effect.  \n",
    "- PaymentMethod_Mailed check (-0.022, p = 0.132): No significant effect.  \n",
    "\n",
    "## Model Performance Interpretation\n",
    "\n",
    "- **R-squared (0.275)**: About 27.5% of the variation in churn is explained by the predictors in the reduced model. This indicates that while the model captures some meaningful relationships, a large portion of variability remains unexplained.  \n",
    "\n",
    "- **Adjusted R-squared (0.273)**: The adjusted value, which accounts for the number of predictors, is very close to the regular R-squared. This suggests that the included predictors contribute useful information and that overfitting is limited.  \n",
    "\n",
    "- **MSE (0.141)**: The mean squared error shows the average squared difference between observed and predicted churn probabilities. Since churn is binary (0/1), the maximum possible squared error is 1. An MSE of 0.141 means the model’s predictions are wrong by about 14% of the maximum possible error. This is better than random guessing but still indicates room for improvement.  \n",
    "\n",
    "- **RMSE (0.376)**: On average, the model’s predicted churn probabilities deviate from the actual values by about 0.376 (on a 0–1 scale). This suggests the model has some predictive power beyond chance, but the prediction errors remain relatively large.  \n"
   ]
  },
  {
   "cell_type": "markdown",
   "id": "17d62c15",
   "metadata": {},
   "source": [
    "## 3. Logistic Regression"
   ]
  },
  {
   "cell_type": "code",
   "execution_count": 44,
   "id": "20e2d455",
   "metadata": {},
   "outputs": [
    {
     "name": "stdout",
     "output_type": "stream",
     "text": [
      "                           Logit Regression Results                           \n",
      "==============================================================================\n",
      "Dep. Variable:                  Churn   No. Observations:                 7043\n",
      "Model:                          Logit   Df Residuals:                     7027\n",
      "Method:                           MLE   Df Model:                           15\n",
      "Date:                Mon, 15 Sep 2025   Pseudo R-squ.:                  0.2399\n",
      "Time:                        04:34:30   Log-Likelihood:                -3097.3\n",
      "converged:                       True   LL-Null:                       -4075.1\n",
      "Covariance Type:            nonrobust   LLR p-value:                     0.000\n",
      "=========================================================================================================\n",
      "                                            coef    std err          z      P>|z|      [0.025      0.975]\n",
      "---------------------------------------------------------------------------------------------------------\n",
      "const                                    -0.3368      0.111     -3.045      0.002      -0.554      -0.120\n",
      "SeniorCitizen                             0.2281      0.080      2.837      0.005       0.071       0.386\n",
      "Partner                                  -0.1535      0.073     -2.112      0.035      -0.296      -0.011\n",
      "Dependents                               -0.1888      0.086     -2.186      0.029      -0.358      -0.020\n",
      "PaperlessBilling                          0.4320      0.071      6.113      0.000       0.294       0.571\n",
      "gender_Male                              -0.0524      0.063     -0.838      0.402      -0.175       0.070\n",
      "OnlineSecurity_No internet service       -1.4796      0.123    -12.061      0.000      -1.720      -1.239\n",
      "OnlineSecurity_Yes                       -0.6259      0.081     -7.759      0.000      -0.784      -0.468\n",
      "OnlineBackup_Yes                         -0.3313      0.071     -4.665      0.000      -0.470      -0.192\n",
      "DeviceProtection_Yes                     -0.0246      0.073     -0.338      0.735      -0.167       0.118\n",
      "TechSupport_Yes                          -0.4595      0.082     -5.637      0.000      -0.619      -0.300\n",
      "Contract_One year                        -1.1938      0.097    -12.308      0.000      -1.384      -1.004\n",
      "Contract_Two year                        -2.1954      0.161    -13.614      0.000      -2.511      -1.879\n",
      "PaymentMethod_Credit card (automatic)    -0.0998      0.110     -0.905      0.365      -0.316       0.116\n",
      "PaymentMethod_Electronic check            0.5410      0.090      5.992      0.000       0.364       0.718\n",
      "PaymentMethod_Mailed check                0.0719      0.108      0.667      0.505      -0.139       0.283\n",
      "=========================================================================================================\n"
     ]
    }
   ],
   "source": [
    "# Logistic Regression after removing high VIF variables\n",
    "from statsmodels.discrete.discrete_model import Logit\n",
    "from statsmodels.tools import add_constant\n",
    "\n",
    "# List of high VIF variables to remove (based on previous diagnostics)\n",
    "high_vif_vars = [\n",
    "    \"PhoneService\",\n",
    "    \"MultipleLines_No phone service\",\n",
    "    \"MonthlyCharges\",\n",
    "    \"InternetService_Fiber optic\",\n",
    "    \"InternetService_No\",\n",
    "    \"StreamingMovies_Yes\",\n",
    "    \"StreamingTV_Yes\",\n",
    "    \"TotalCharges\",\n",
    "    \"tenure\",\n",
    "    \"MultipleLines_Yes\",\n",
    "]\n",
    "\n",
    "# Prepare features and target\n",
    "data_for_logit = data.copy()\n",
    "X_logit_reduced = data_for_logit.drop(high_vif_vars + [\"Churn\"], axis=1)\n",
    "X_logit_reduced = pd.get_dummies(X_logit_reduced, drop_first=True)\n",
    "X_logit_reduced = X_logit_reduced.apply(pd.to_numeric, errors=\"coerce\")\n",
    "\n",
    "# Drop constant columns (zero variance)\n",
    "X_logit_reduced = X_logit_reduced.loc[:, X_logit_reduced.nunique() > 1]\n",
    "\n",
    "# Drop duplicate columns\n",
    "X_logit_reduced = X_logit_reduced.T.drop_duplicates().T\n",
    "\n",
    "y_logit_reduced = (\n",
    "    data_for_logit[\"Churn\"].map({\"Yes\": 1, \"No\": 0})\n",
    "    if data_for_logit[\"Churn\"].dtype == object\n",
    "    else data_for_logit[\"Churn\"]\n",
    ")\n",
    "y_logit_reduced = pd.to_numeric(y_logit_reduced, errors=\"coerce\")\n",
    "\n",
    "# Add constant and drop missing values\n",
    "X_logit_const_reduced = add_constant(X_logit_reduced)\n",
    "X_logit_const_reduced = X_logit_const_reduced.dropna()\n",
    "y_logit_reduced = y_logit_reduced.loc[X_logit_const_reduced.index]\n",
    "\n",
    "# Ensure all columns are float\n",
    "y_logit_reduced = y_logit_reduced.astype(float)\n",
    "X_logit_const_reduced = X_logit_const_reduced.astype(float)\n",
    "\n",
    "# Fit logistic regression\n",
    "logit_model_reduced = Logit(y_logit_reduced, X_logit_const_reduced).fit(disp=0)\n",
    "print(logit_model_reduced.summary())"
   ]
  },
  {
   "cell_type": "code",
   "execution_count": 45,
   "id": "560632e8",
   "metadata": {},
   "outputs": [
    {
     "name": "stdout",
     "output_type": "stream",
     "text": [
      "Confusion Matrix:\n",
      " [[4589  585]\n",
      " [ 938  931]]\n",
      "Accuracy: 0.7837569217662927\n",
      "Precision: 0.6141160949868074\n",
      "Recall: 0.49812734082397003\n",
      "F1 Score: 0.5500738552437223\n",
      "ROC AUC: 0.8233228950862059\n"
     ]
    },
    {
     "name": "stdout",
     "output_type": "stream",
     "text": [
      "Confusion Matrix:\n",
      " [[4589  585]\n",
      " [ 938  931]]\n",
      "Accuracy: 0.7837569217662927\n",
      "Precision: 0.6141160949868074\n",
      "Recall: 0.49812734082397003\n",
      "F1 Score: 0.5500738552437223\n",
      "ROC AUC: 0.8233228950862059\n"
     ]
    },
    {
     "data": {
      "image/png": "[encoded data removed]",
      "text/plain": [
       "<Figure size 640x480 with 1 Axes>"
      ]
     },
     "metadata": {},
     "output_type": "display_data"
    }
   ],
   "source": [
    "from sklearn.metrics import (\n",
    "    confusion_matrix,\n",
    "    accuracy_score,\n",
    "    precision_score,\n",
    "    recall_score,\n",
    "    f1_score,\n",
    "    roc_auc_score,\n",
    "    roc_curve,\n",
    ")\n",
    "import matplotlib.pyplot as plt\n",
    "\n",
    "# Predict probabilities and classes\n",
    "y_pred_prob = logit_model_reduced.predict(X_logit_const_reduced)\n",
    "y_pred_class = (y_pred_prob > 0.5).astype(int)\n",
    "\n",
    "# Confusion matrix and metrics\n",
    "print(\"Confusion Matrix:\\n\", confusion_matrix(y_logit_reduced, y_pred_class))\n",
    "print(\"Accuracy:\", accuracy_score(y_logit_reduced, y_pred_class))\n",
    "print(\"Precision:\", precision_score(y_logit_reduced, y_pred_class))\n",
    "print(\"Recall:\", recall_score(y_logit_reduced, y_pred_class))\n",
    "print(\"F1 Score:\", f1_score(y_logit_reduced, y_pred_class))\n",
    "print(\"ROC AUC:\", roc_auc_score(y_logit_reduced, y_pred_prob))\n",
    "\n",
    "# ROC Curve\n",
    "fpr, tpr, thresholds = roc_curve(y_logit_reduced, y_pred_prob)\n",
    "plt.plot(fpr, tpr, label=\"ROC Curve\")\n",
    "plt.plot([0, 1], [0, 1], \"k--\")\n",
    "plt.xlabel(\"False Positive Rate\")\n",
    "plt.ylabel(\"True Positive Rate\")\n",
    "plt.title(\"ROC Curve\")\n",
    "plt.legend()\n",
    "plt.show()"
   ]
  },
  {
   "cell_type": "markdown",
   "id": "48fb74d5",
   "metadata": {},
   "source": [
    "## Interpretation of Logistic Regression Coefficients\n",
    "\n",
    "### Significant Predictors\n",
    "\n",
    "- SeniorCitizen (0.228, p = 0.005): Being a senior citizen increases the log-odds of churn by 0.228. This corresponds to higher probability of churn for senior citizens compared to non-seniors.  \n",
    "- Partner (-0.154, p = 0.035): Having a partner decreases the log-odds of churn by 0.154, meaning partnered customers are less likely to churn.  \n",
    "- Dependents (-0.189, p = 0.029): Having dependents reduces the log-odds of churn by 0.189, indicating a lower churn probability.  \n",
    "- PaperlessBilling (0.432, p < 0.001): Using paperless billing increases the log-odds of churn by 0.432, showing higher churn likelihood.  \n",
    "- OnlineSecurity_No internet service (-1.480, p < 0.001): Customers without internet service have much lower log-odds of churn compared to the reference group.  \n",
    "- OnlineSecurity_Yes (-0.626, p < 0.001): Customers with online security have lower log-odds of churn than those without, reducing churn probability.  \n",
    "- OnlineBackup_Yes (-0.331, p < 0.001): Having online backup reduces log-odds of churn, suggesting a protective effect.  \n",
    "- TechSupport_Yes (-0.460, p < 0.001): Access to tech support lowers the log-odds of churn.  \n",
    "- Contract_One year (-1.194, p < 0.001): One-year contracts strongly decrease the log-odds of churn relative to month-to-month contracts.  \n",
    "- Contract_Two year (-2.195, p < 0.001): Two-year contracts provide the largest reduction in churn log-odds, indicating a very strong protective effect.  \n",
    "- PaymentMethod_Electronic check (0.541, p < 0.001): Paying via electronic check increases log-odds of churn, raising the probability of leaving compared to automatic bank transfer.\n",
    "\n",
    "### Not Significant Predictors\n",
    "\n",
    "- Gender_Male (-0.052, p = 0.402): No significant effect on churn probability.  \n",
    "- DeviceProtection_Yes (-0.025, p = 0.735): Not significant.  \n",
    "- PaymentMethod_Credit card (automatic) (-0.100, p = 0.365): No significant effect on churn.  \n",
    "- PaymentMethod_Mailed check (0.072, p = 0.505): No significant effect on churn.\n",
    "\n",
    "\n",
    "## Logistic Regression model performance \n",
    "\n",
    "- ROC AUC is above 0.7, indicating the model separates churners from non-churners better than random.\n",
    "- The model predicts churn with moderate accuracy, precision, and recall.\n",
    "- About half of actual churners are identified; some are missed (false negatives) and some non-churners are incorrectly flagged (false positives).\n"
   ]
  },
  {
   "cell_type": "markdown",
   "id": "5ac11ebf",
   "metadata": {},
   "source": [
    "## 4. Generalized Additive Model (GAM)"
   ]
  },
  {
   "cell_type": "code",
   "execution_count": 49,
   "id": "a116feb4",
   "metadata": {},
   "outputs": [
    {
     "name": "stdout",
     "output_type": "stream",
     "text": [
      "LogisticGAM                                                                                               \n",
      "=============================================== ==========================================================\n",
      "Distribution:                      BinomialDist Effective DoF:                                        16.0\n",
      "Link Function:                        LogitLink Log Likelihood:                                  -3097.297\n",
      "Number of Samples:                         7043 AIC:                                             6226.5941\n",
      "                                                AICc:                                            6226.6812\n",
      "                                                UBRE:                                               2.8859\n",
      "                                                Scale:                                                 1.0\n",
      "                                                Pseudo R-Squared:                                   0.2399\n",
      "==========================================================================================================\n",
      "Feature Function                  Lambda               Rank         EDoF         P > x        Sig. Code   \n",
      "================================= ==================== ============ ============ ============ ============\n",
      "s(0)                              [0.6]                20           2.0          1.19e-02     *           \n",
      "s(1)                              [0.6]                20           1.0          1.05e-01                 \n",
      "s(2)                              [0.6]                20           1.0          8.60e-02     .           \n",
      "s(3)                              [0.6]                20           1.0          7.50e-09     ***         \n",
      "s(4)                              [0.6]                20           1.0          7.04e-01                 \n",
      "s(5)                              [0.6]                20           1.0          0.00e+00     ***         \n",
      "s(6)                              [0.6]                20           1.0          3.92e-14     ***         \n",
      "s(7)                              [0.6]                20           1.0          1.76e-05     ***         \n",
      "s(8)                              [0.6]                20           1.0          9.44e-01                 \n",
      "s(9)                              [0.6]                20           1.0          1.03e-07     ***         \n",
      "s(10)                             [0.6]                20           1.0          0.00e+00     ***         \n",
      "s(11)                             [0.6]                20           1.0          0.00e+00     ***         \n",
      "s(12)                             [0.6]                20           1.0          5.98e-01                 \n",
      "s(13)                             [0.6]                20           0.9          6.55e-11     ***         \n",
      "s(14)                             [0.6]                20           0.9          7.59e-01                 \n",
      "intercept                                              1            0.0          0.00e+00     ***         \n",
      "==========================================================================================================\n",
      "Significance codes:  0 '***' 0.001 '**' 0.01 '*' 0.05 '.' 0.1 ' ' 1\n",
      "\n",
      "WARNING: Fitting splines and a linear function to a feature introduces a model identifiability problem\n",
      "         which can cause p-values to appear significant when they are not.\n",
      "\n",
      "WARNING: p-values calculated in this manner behave correctly for un-penalized models or models with\n",
      "         known smoothing parameters, but when smoothing parameters have been estimated, the p-values\n",
      "         are typically lower than they should be, meaning that the tests reject the null too readily.\n",
      "None\n"
     ]
    }
   ],
   "source": [
    "# Install pygam if not already installed\n",
    "try:\n",
    "    from pygam import LogisticGAM, s\n",
    "except ImportError:\n",
    "    !pip install pygam\n",
    "    from pygam import LogisticGAM, s\n",
    "\n",
    "from functools import reduce\n",
    "from operator import add\n",
    "\n",
    "# Remove high VIF variables (same as logistic regression reduced set)\n",
    "high_vif_vars = [\n",
    "    \"PhoneService\",\n",
    "    \"MultipleLines_No phone service\",\n",
    "    \"MonthlyCharges\",\n",
    "    \"InternetService_Fiber optic\",\n",
    "    \"InternetService_No\",\n",
    "    \"StreamingMovies_Yes\",\n",
    "    \"StreamingTV_Yes\",\n",
    "    \"TotalCharges\",\n",
    "    \"tenure\",\n",
    "    \"MultipleLines_Yes\",\n",
    "]\n",
    "\n",
    "# Prepare features and target\n",
    "data_for_gam = data.copy()\n",
    "X_gam = data_for_gam.drop(high_vif_vars + [\"Churn\"], axis=1)\n",
    "X_gam = pd.get_dummies(X_gam, drop_first=True)\n",
    "X_gam = X_gam.apply(pd.to_numeric, errors=\"coerce\")\n",
    "X_gam = X_gam.loc[:, X_gam.nunique() > 1]  # Drop constant columns\n",
    "X_gam = X_gam.T.drop_duplicates().T        # Drop duplicate columns\n",
    "X_gam = X_gam.dropna()                     # Drop missing values\n",
    "\n",
    "y_gam = data_for_gam[\"Churn\"]\n",
    "if y_gam.dtype == object:\n",
    "    y_gam = y_gam.map({\"Yes\": 1, \"No\": 0})\n",
    "y_gam = pd.to_numeric(y_gam, errors=\"coerce\")\n",
    "y_gam = y_gam.loc[X_gam.index].astype(int)\n",
    "\n",
    "# Fit a logistic GAM with the correct number of spline terms\n",
    "n_features = X_gam.shape[1]\n",
    "terms = reduce(add, [s(i) for i in range(n_features)])\n",
    "gam = LogisticGAM(terms).fit(X_gam.values, y_gam.values)\n",
    "\n",
    "# Print summary\n",
    "print(gam.summary())"
   ]
  },
  {
   "cell_type": "code",
   "execution_count": 53,
   "id": "5ac7dd92",
   "metadata": {},
   "outputs": [
    {
     "data": {
      "image/png": "[encoded data removed]",
      "text/plain": [
       "<Figure size 600x400 with 1 Axes>"
      ]
     },
     "metadata": {},
     "output_type": "display_data"
    }
   ],
   "source": [
    "from sklearn.metrics import roc_curve, roc_auc_score\n",
    "import matplotlib.pyplot as plt\n",
    "\n",
    "# Predict probabilities\n",
    "y_gam_prob = gam.predict_proba(X_gam)\n",
    "\n",
    "# Compute ROC curve and AUC\n",
    "fpr, tpr, thresholds = roc_curve(y_gam, y_gam_prob)\n",
    "auc = roc_auc_score(y_gam, y_gam_prob)\n",
    "\n",
    "# Plot ROC curve\n",
    "plt.figure(figsize=(6, 4))\n",
    "plt.plot(fpr, tpr, label=f\"GAM ROC curve (AUC = {auc:.2f})\")\n",
    "plt.plot([0, 1], [0, 1], \"k--\")\n",
    "plt.xlabel(\"False Positive Rate\")\n",
    "plt.ylabel(\"True Positive Rate\")\n",
    "plt.title(\"ROC Curve for GAM Model\")\n",
    "plt.legend()\n",
    "plt.show()"
   ]
  },
  {
   "cell_type": "markdown",
   "id": "c2d8aba4",
   "metadata": {},
   "source": [
    "## Interpretation of GAM\n",
    "- There is not a single coefficient per feature. Instead, each feature’s effect is a curve (the smooth function).\n",
    "- The Area Under the Curve (AUC) is 0.82, indicating good predictive performance. An AUC above 0.8 suggests the model is effective at distinguishing between the two classes."
   ]
  },
  {
   "cell_type": "markdown",
   "id": "61815db9",
   "metadata": {},
   "source": [
    "## 5. Model Comparison:\n",
    "### Interpretability:\n",
    "### Flexibility and assumptions: "
   ]
  },
  {
   "cell_type": "markdown",
   "id": "c93ddd92",
   "metadata": {},
   "source": [
    "### Model Comparison: Interpretability, Flexibility, and Assumptions\n",
    "\n",
    "Linear Regression\n",
    "- Interpretability: Highly interpretable; each coefficient shows the expected change in churn probability for a one-unit change in the predictor, holding others constant.\n",
    "- Assumptions: Requires linearity, homoscedasticity, normality of residuals, and no multicollinearity. Many of these were violated in the churn dataset (e.g., non-normal residuals, high VIFs).\n",
    "- Flexibility: Limited; only captures linear relationships. Not suitable for binary outcomes or complex, non-linear effects.\n",
    "\n",
    "Logistic Regression\n",
    "- Interpretability: Moderately interpretable; coefficients represent changes in the log-odds of churn. Odds ratios can be calculated for practical interpretation.\n",
    "- Assumptions: Requires linearity of the logit for continuous predictors, independence of observations, and no multicollinearity. Some violations were observed (e.g., Box-Tidwell test failed for tenure and TotalCharges, high VIFs).\n",
    "- Flexibility: More flexible than linear regression for binary outcomes, but still assumes linear effects on the logit scale and cannot capture non-linearities without transformation.\n",
    "\n",
    "Generalized Additive Model (GAM)\n",
    "- Interpretability: Harder to interpret due to complex smooth functions.\n",
    "- Assumptions: Requires additivity of predictors, correct link function, independence, and smoothness. Does not require strict linearity or normality. Multicollinearity should still be avoided.\n",
    "- Flexibility: Highly flexible; can model complex, non-linear relationships and interactions. Well-suited for binary outcomes and datasets where linearity is violated.\n",
    "\n",
    "Performance Summary:\n",
    "- Linear regression explained ~27% of churn variation (R-squared = 0.27) but violated key assumptions.\n",
    "- Logistic regression and GAM achieved similar ROC AUC = 0.82, showing strong predictive performance and better handling of non-linear effects.\n",
    "\n",
    "Conclusion and Recommendation:\n",
    "Logistic regression strikes a balance between flexibility and performance. It does not violate as many assumptions as linear regression, performs similarly to GAM, and remains interpretable. So I would recommend the telecommunications company to use Logistic Regression model over others. \n"
   ]
  },
  {
   "cell_type": "markdown",
   "id": "27c7d8a3",
   "metadata": {},
   "source": [
    "### References \n",
    "- The texts were edited and polished using GPT-5 on 09/14/2025 10 pm\n",
    "- Snippet of code for GAM was generated using GPT 4.1 and was modified further on 09/14/2025 11 pm"
   ]
  }
 ],
 "metadata": {
  "kernelspec": {
   "display_name": "base",
   "language": "python",
   "name": "python3"
  },
  "language_info": {
   "codemirror_mode": {
    "name": "ipython",
    "version": 3
   },
   "file_extension": ".py",
   "mimetype": "text/x-python",
   "name": "python",
   "nbconvert_exporter": "python",
   "pygments_lexer": "ipython3",
   "version": "3.10.16"
  }
 },
 "nbformat": 4,
 "nbformat_minor": 5
}
